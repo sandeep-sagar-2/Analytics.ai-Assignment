{
 "cells": [
  {
   "cell_type": "code",
   "execution_count": null,
   "id": "309c3332",
   "metadata": {},
   "outputs": [],
   "source": [
    "from selenium import webdriver\n",
    "from bs4 import BeautifulSoup\n",
    "import pandas as pd\n",
    "\n",
    "# Initialize a web driver\n",
    "driver = webdriver.Chrome(executable_path='chromedriver.exe')\n",
    "\n",
    "# Create an empty list to store the data\n",
    "data = []\n",
    "\n",
    "# Loop through your list of company names\n",
    "for company_name in company_names:\n",
    "    # Construct the LinkedIn company search URL\n",
    "    search_url = f\"https://www.linkedin.com/company/{company_name}\"\n",
    "\n",
    "    # Visit the LinkedIn company page\n",
    "    driver.get(search_url)\n",
    "\n",
    "    # Extract the LinkedIn company profile URL\n",
    "    company_url = driver.current_url\n",
    "\n",
    "    # Append the data to the list\n",
    "    data.append([company_name, company_url])\n",
    "\n",
    "# Create a DataFrame and save it to a spreadsheet\n",
    "df = pd.DataFrame(data, columns=['Company Name', 'LinkedIn URL'])\n",
    "df.to_excel('linkedin_company_links.xlsx', index=False)\n",
    "\n",
    "# Close the web driver\n",
    "driver.quit()"
   ]
  }
 ],
 "metadata": {
  "kernelspec": {
   "display_name": "Python 3 (ipykernel)",
   "language": "python",
   "name": "python3"
  },
  "language_info": {
   "codemirror_mode": {
    "name": "ipython",
    "version": 3
   },
   "file_extension": ".py",
   "mimetype": "text/x-python",
   "name": "python",
   "nbconvert_exporter": "python",
   "pygments_lexer": "ipython3",
   "version": "3.9.13"
  }
 },
 "nbformat": 4,
 "nbformat_minor": 5
}
